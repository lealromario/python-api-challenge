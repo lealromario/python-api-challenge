{
 "cells": [
  {
   "cell_type": "code",
   "execution_count": 10,
   "id": "2570f8ee",
   "metadata": {},
   "outputs": [],
   "source": [
    "# Dependencies and Setup\n",
    "import hvplot.pandas\n",
    "import pandas as pd\n",
    "import requests\n",
    "import hvplot.pandas\n",
    "import numpy as np\n",
    "import geoviews as gv\n",
    "\n",
    "from geoviews import tile_sources as gvts\n",
    "\n",
    "# Import API key\n",
    "from api_keys import geoapify_key"
   ]
  },
  {
   "cell_type": "code",
   "execution_count": 11,
   "id": "fb203ce9",
   "metadata": {},
   "outputs": [
    {
     "data": {
      "text/html": [
       "<div>\n",
       "<style scoped>\n",
       "    .dataframe tbody tr th:only-of-type {\n",
       "        vertical-align: middle;\n",
       "    }\n",
       "\n",
       "    .dataframe tbody tr th {\n",
       "        vertical-align: top;\n",
       "    }\n",
       "\n",
       "    .dataframe thead th {\n",
       "        text-align: right;\n",
       "    }\n",
       "</style>\n",
       "<table border=\"1\" class=\"dataframe\">\n",
       "  <thead>\n",
       "    <tr style=\"text-align: right;\">\n",
       "      <th></th>\n",
       "      <th>Unnamed: 0</th>\n",
       "      <th>City</th>\n",
       "      <th>Latitude</th>\n",
       "      <th>Longitude</th>\n",
       "      <th>Max Temp</th>\n",
       "      <th>Humidity</th>\n",
       "      <th>Data</th>\n",
       "      <th>Wind Speed</th>\n",
       "      <th>Cloudiness</th>\n",
       "      <th>Country</th>\n",
       "    </tr>\n",
       "  </thead>\n",
       "  <tbody>\n",
       "    <tr>\n",
       "      <th>0</th>\n",
       "      <td>0</td>\n",
       "      <td>Bluff</td>\n",
       "      <td>-46.6000</td>\n",
       "      <td>168.3333</td>\n",
       "      <td>50.81</td>\n",
       "      <td>71</td>\n",
       "      <td>1680471415</td>\n",
       "      <td>8.52</td>\n",
       "      <td>94</td>\n",
       "      <td>NZ</td>\n",
       "    </tr>\n",
       "    <tr>\n",
       "      <th>1</th>\n",
       "      <td>1</td>\n",
       "      <td>Pangnirtung</td>\n",
       "      <td>66.1451</td>\n",
       "      <td>-65.7125</td>\n",
       "      <td>6.46</td>\n",
       "      <td>82</td>\n",
       "      <td>1680471415</td>\n",
       "      <td>3.98</td>\n",
       "      <td>100</td>\n",
       "      <td>CA</td>\n",
       "    </tr>\n",
       "    <tr>\n",
       "      <th>2</th>\n",
       "      <td>2</td>\n",
       "      <td>Rikitea</td>\n",
       "      <td>-23.1203</td>\n",
       "      <td>-134.9692</td>\n",
       "      <td>80.24</td>\n",
       "      <td>81</td>\n",
       "      <td>1680471415</td>\n",
       "      <td>16.04</td>\n",
       "      <td>24</td>\n",
       "      <td>PF</td>\n",
       "    </tr>\n",
       "    <tr>\n",
       "      <th>3</th>\n",
       "      <td>3</td>\n",
       "      <td>Gari</td>\n",
       "      <td>59.4307</td>\n",
       "      <td>62.3497</td>\n",
       "      <td>33.71</td>\n",
       "      <td>90</td>\n",
       "      <td>1680471415</td>\n",
       "      <td>0.76</td>\n",
       "      <td>100</td>\n",
       "      <td>RU</td>\n",
       "    </tr>\n",
       "    <tr>\n",
       "      <th>4</th>\n",
       "      <td>4</td>\n",
       "      <td>Coquimbo</td>\n",
       "      <td>-29.9533</td>\n",
       "      <td>-71.3436</td>\n",
       "      <td>64.13</td>\n",
       "      <td>88</td>\n",
       "      <td>1680471416</td>\n",
       "      <td>11.50</td>\n",
       "      <td>40</td>\n",
       "      <td>CL</td>\n",
       "    </tr>\n",
       "  </tbody>\n",
       "</table>\n",
       "</div>"
      ],
      "text/plain": [
       "   Unnamed: 0         City  Latitude  Longitude  Max Temp  Humidity  \\\n",
       "0           0        Bluff  -46.6000   168.3333     50.81        71   \n",
       "1           1  Pangnirtung   66.1451   -65.7125      6.46        82   \n",
       "2           2      Rikitea  -23.1203  -134.9692     80.24        81   \n",
       "3           3         Gari   59.4307    62.3497     33.71        90   \n",
       "4           4     Coquimbo  -29.9533   -71.3436     64.13        88   \n",
       "\n",
       "         Data  Wind Speed  Cloudiness Country  \n",
       "0  1680471415        8.52          94      NZ  \n",
       "1  1680471415        3.98         100      CA  \n",
       "2  1680471415       16.04          24      PF  \n",
       "3  1680471415        0.76         100      RU  \n",
       "4  1680471416       11.50          40      CL  "
      ]
     },
     "execution_count": 11,
     "metadata": {},
     "output_type": "execute_result"
    }
   ],
   "source": [
    "# Read the csv file and header=None to remove the 'Unnamed: 0' column that gets created\n",
    "vaca_df = pd.read_csv(r\"C:\\Users\\lealr\\OneDrive\\DU Bootcamp\\Python APIs\\API-challenge\\output_data\\cities.csv\")\n",
    "\n",
    "# I need to drop a 'Unnamed: 0' column to prevent the extra column from showing up in my DataFrame\n",
    "# vaca_df.drop(columns=['Unnamed: 0'], inplace=True)\n",
    "\n",
    "\n",
    "vaca_df.head()"
   ]
  },
  {
   "cell_type": "code",
   "execution_count": 12,
   "id": "a0b7ead8",
   "metadata": {},
   "outputs": [
    {
     "data": {
      "text/plain": [
       "Index(['Unnamed: 0', 'City', 'Latitude', 'Longitude', 'Max Temp', 'Humidity',\n",
       "       'Data', 'Wind Speed', 'Cloudiness', 'Country'],\n",
       "      dtype='object')"
      ]
     },
     "execution_count": 12,
     "metadata": {},
     "output_type": "execute_result"
    }
   ],
   "source": [
    "vaca_df.columns"
   ]
  },
  {
   "cell_type": "code",
   "execution_count": 15,
   "id": "c5efb8e7",
   "metadata": {},
   "outputs": [],
   "source": [
    "del vaca_df['Unnamed: 0']"
   ]
  },
  {
   "cell_type": "code",
   "execution_count": 16,
   "id": "16292cf2",
   "metadata": {},
   "outputs": [
    {
     "data": {
      "text/plain": [
       "City          545\n",
       "Latitude      545\n",
       "Longitude     545\n",
       "Max Temp      545\n",
       "Humidity      545\n",
       "Data          545\n",
       "Wind Speed    545\n",
       "Cloudiness    545\n",
       "Country       541\n",
       "dtype: int64"
      ]
     },
     "execution_count": 16,
     "metadata": {},
     "output_type": "execute_result"
    }
   ],
   "source": [
    "vaca_df.count()\n"
   ]
  },
  {
   "cell_type": "code",
   "execution_count": 20,
   "id": "5cda3247",
   "metadata": {},
   "outputs": [
    {
     "name": "stderr",
     "output_type": "stream",
     "text": [
      "'import' is not recognized as an internal or external command,\n",
      "operable program or batch file.\n"
     ]
    }
   ],
   "source": [
    "!import holoviews as hv"
   ]
  },
  {
   "cell_type": "code",
   "execution_count": 7,
   "id": "0c3d729b",
   "metadata": {},
   "outputs": [
    {
     "name": "stdout",
     "output_type": "stream",
     "text": [
      "<class 'pandas.core.frame.DataFrame'>\n",
      "RangeIndex: 545 entries, 0 to 544\n",
      "Data columns (total 10 columns):\n",
      " #   Column      Non-Null Count  Dtype  \n",
      "---  ------      --------------  -----  \n",
      " 0   Unnamed: 0  545 non-null    int64  \n",
      " 1   City        545 non-null    object \n",
      " 2   Latitude    545 non-null    float64\n",
      " 3   Longitude   545 non-null    float64\n",
      " 4   Max Temp    545 non-null    float64\n",
      " 5   Humidity    545 non-null    int64  \n",
      " 6   Data        545 non-null    int64  \n",
      " 7   Wind Speed  545 non-null    float64\n",
      " 8   Cloudiness  545 non-null    int64  \n",
      " 9   Country     541 non-null    object \n",
      "dtypes: float64(4), int64(4), object(2)\n",
      "memory usage: 42.7+ KB\n"
     ]
    }
   ],
   "source": [
    "vaca_df.info()\n"
   ]
  },
  {
   "cell_type": "code",
   "execution_count": 24,
   "id": "4b29c972",
   "metadata": {},
   "outputs": [
    {
     "data": {},
     "metadata": {},
     "output_type": "display_data"
    },
    {
     "data": {
      "application/vnd.holoviews_exec.v0+json": "",
      "text/html": [
       "<div id='1459'>\n",
       "  <div class=\"bk-root\" id=\"506db8fe-f21e-4ad0-b76d-9f2e2a830b28\" data-root-id=\"1459\"></div>\n",
       "</div>\n",
       "<script type=\"application/javascript\">(function(root) {\n",
       "  function embed_document(root) {\n",
       "    var docs_json = {\"a6ee1269-e1ff-42f7-b04a-f281a5ca922e\":{\"defs\":[{\"extends\":null,\"module\":null,\"name\":\"ReactiveHTML1\",\"overrides\":[],\"properties\":[]},{\"extends\":null,\"module\":null,\"name\":\"FlexBox1\",\"overrides\":[],\"properties\":[{\"default\":\"flex-start\",\"kind\":null,\"name\":\"align_content\"},{\"default\":\"flex-start\",\"kind\":null,\"name\":\"align_items\"},{\"default\":\"row\",\"kind\":null,\"name\":\"flex_direction\"},{\"default\":\"wrap\",\"kind\":null,\"name\":\"flex_wrap\"},{\"default\":\"flex-start\",\"kind\":null,\"name\":\"justify_content\"}]},{\"extends\":null,\"module\":null,\"name\":\"GridStack1\",\"overrides\":[],\"properties\":[{\"default\":\"warn\",\"kind\":null,\"name\":\"mode\"},{\"default\":null,\"kind\":null,\"name\":\"ncols\"},{\"default\":null,\"kind\":null,\"name\":\"nrows\"},{\"default\":true,\"kind\":null,\"name\":\"allow_resize\"},{\"default\":true,\"kind\":null,\"name\":\"allow_drag\"},{\"default\":[],\"kind\":null,\"name\":\"state\"}]},{\"extends\":null,\"module\":null,\"name\":\"click1\",\"overrides\":[],\"properties\":[{\"default\":\"\",\"kind\":null,\"name\":\"terminal_output\"},{\"default\":\"\",\"kind\":null,\"name\":\"debug_name\"},{\"default\":0,\"kind\":null,\"name\":\"clears\"}]},{\"extends\":null,\"module\":null,\"name\":\"NotificationAreaBase1\",\"overrides\":[],\"properties\":[{\"default\":\"bottom-right\",\"kind\":null,\"name\":\"position\"},{\"default\":0,\"kind\":null,\"name\":\"_clear\"}]},{\"extends\":null,\"module\":null,\"name\":\"NotificationArea1\",\"overrides\":[],\"properties\":[{\"default\":[],\"kind\":null,\"name\":\"notifications\"},{\"default\":\"bottom-right\",\"kind\":null,\"name\":\"position\"},{\"default\":0,\"kind\":null,\"name\":\"_clear\"},{\"default\":[{\"background\":\"#ffc107\",\"icon\":{\"className\":\"fas fa-exclamation-triangle\",\"color\":\"white\",\"tagName\":\"i\"},\"type\":\"warning\"},{\"background\":\"#007bff\",\"icon\":{\"className\":\"fas fa-info-circle\",\"color\":\"white\",\"tagName\":\"i\"},\"type\":\"info\"}],\"kind\":null,\"name\":\"types\"}]},{\"extends\":null,\"module\":null,\"name\":\"Notification\",\"overrides\":[],\"properties\":[{\"default\":null,\"kind\":null,\"name\":\"background\"},{\"default\":3000,\"kind\":null,\"name\":\"duration\"},{\"default\":null,\"kind\":null,\"name\":\"icon\"},{\"default\":\"\",\"kind\":null,\"name\":\"message\"},{\"default\":null,\"kind\":null,\"name\":\"notification_type\"},{\"default\":false,\"kind\":null,\"name\":\"_destroyed\"}]},{\"extends\":null,\"module\":null,\"name\":\"TemplateActions1\",\"overrides\":[],\"properties\":[{\"default\":0,\"kind\":null,\"name\":\"open_modal\"},{\"default\":0,\"kind\":null,\"name\":\"close_modal\"}]},{\"extends\":null,\"module\":null,\"name\":\"MaterialTemplateActions1\",\"overrides\":[],\"properties\":[{\"default\":0,\"kind\":null,\"name\":\"open_modal\"},{\"default\":0,\"kind\":null,\"name\":\"close_modal\"}]}],\"roots\":{\"references\":[{\"attributes\":{\"coordinates\":null,\"group\":null,\"level\":\"glyph\",\"tile_source\":{\"id\":\"1530\"}},\"id\":\"1533\",\"type\":\"TileRenderer\"},{\"attributes\":{\"axis\":{\"id\":\"1481\"},\"coordinates\":null,\"grid_line_color\":null,\"group\":null,\"ticker\":null},\"id\":\"1484\",\"type\":\"Grid\"},{\"attributes\":{\"click_policy\":\"mute\",\"coordinates\":null,\"group\":null,\"items\":[{\"id\":\"1553\"}],\"location\":[0,0]},\"id\":\"1552\",\"type\":\"Legend\"},{\"attributes\":{\"dimension\":\"lon\"},\"id\":\"1505\",\"type\":\"MercatorTickFormatter\"},{\"attributes\":{\"code\":\"\\n        var projections = Bokeh.require(\\\"core/util/projections\\\");\\n        var x = special_vars.data_x\\n        var y = special_vars.data_y\\n        var coords = projections.wgs84_mercator.invert(x, y)\\n        return \\\"\\\" + (coords[1]).toFixed(4)\\n    \"},\"id\":\"1555\",\"type\":\"CustomJSHover\"},{\"attributes\":{\"coordinates\":null,\"group\":null,\"text_color\":\"black\",\"text_font_size\":\"12pt\"},\"id\":\"1473\",\"type\":\"Title\"},{\"attributes\":{\"label\":{\"field\":\"color\"},\"renderers\":[{\"id\":\"1544\"}]},\"id\":\"1553\",\"type\":\"LegendItem\"},{\"attributes\":{\"axis_label\":\"x\",\"coordinates\":null,\"formatter\":{\"id\":\"1505\"},\"group\":null,\"major_label_policy\":{\"id\":\"1510\"},\"ticker\":{\"id\":\"1504\"}},\"id\":\"1481\",\"type\":\"LinearAxis\"},{\"attributes\":{},\"id\":\"1490\",\"type\":\"PanTool\"},{\"attributes\":{\"axis_label\":\"y\",\"coordinates\":null,\"formatter\":{\"id\":\"1507\"},\"group\":null,\"major_label_policy\":{\"id\":\"1517\"},\"ticker\":{\"id\":\"1506\"}},\"id\":\"1485\",\"type\":\"LinearAxis\"},{\"attributes\":{\"axis\":{\"id\":\"1485\"},\"coordinates\":null,\"dimension\":1,\"grid_line_color\":null,\"group\":null,\"ticker\":null},\"id\":\"1488\",\"type\":\"Grid\"},{\"attributes\":{\"fill_alpha\":{\"value\":0.2},\"fill_color\":{\"field\":\"color\",\"transform\":{\"id\":\"1535\"}},\"hatch_alpha\":{\"value\":0.2},\"hatch_color\":{\"field\":\"color\",\"transform\":{\"id\":\"1535\"}},\"line_alpha\":{\"value\":0.2},\"line_color\":{\"field\":\"color\",\"transform\":{\"id\":\"1535\"}},\"size\":{\"field\":\"size\"},\"x\":{\"field\":\"Longitude\"},\"y\":{\"field\":\"Latitude\"}},\"id\":\"1543\",\"type\":\"Scatter\"},{\"attributes\":{\"zoom_on_axis\":false},\"id\":\"1491\",\"type\":\"WheelZoomTool\"},{\"attributes\":{\"fill_alpha\":{\"value\":0.5},\"fill_color\":{\"field\":\"color\",\"transform\":{\"id\":\"1535\"}},\"hatch_alpha\":{\"value\":0.1},\"hatch_color\":{\"field\":\"color\",\"transform\":{\"id\":\"1535\"}},\"line_alpha\":{\"value\":0.5},\"line_color\":{\"field\":\"color\",\"transform\":{\"id\":\"1535\"}},\"size\":{\"field\":\"size\"},\"x\":{\"field\":\"Longitude\"},\"y\":{\"field\":\"Latitude\"}},\"id\":\"1540\",\"type\":\"Scatter\"},{\"attributes\":{},\"id\":\"1549\",\"type\":\"UnionRenderers\"},{\"attributes\":{\"code\":\"\\n        var projections = Bokeh.require(\\\"core/util/projections\\\");\\n        var x = special_vars.data_x\\n        var y = special_vars.data_y\\n        var coords = projections.wgs84_mercator.invert(x, y)\\n        return \\\"\\\" + (coords[0]).toFixed(4)\\n    \"},\"id\":\"1554\",\"type\":\"CustomJSHover\"},{\"attributes\":{},\"id\":\"1489\",\"type\":\"SaveTool\"},{\"attributes\":{\"match_aspect\":true,\"overlay\":{\"id\":\"1494\"}},\"id\":\"1492\",\"type\":\"BoxZoomTool\"},{\"attributes\":{\"fill_alpha\":{\"value\":0.5},\"fill_color\":{\"field\":\"color\",\"transform\":{\"id\":\"1535\"}},\"hatch_alpha\":{\"value\":0.5},\"hatch_color\":{\"field\":\"color\",\"transform\":{\"id\":\"1535\"}},\"line_alpha\":{\"value\":0.5},\"line_color\":{\"field\":\"color\",\"transform\":{\"id\":\"1535\"}},\"size\":{\"field\":\"size\"},\"x\":{\"field\":\"Longitude\"},\"y\":{\"field\":\"Latitude\"}},\"id\":\"1542\",\"type\":\"Scatter\"},{\"attributes\":{\"fill_alpha\":{\"value\":0.5},\"fill_color\":{\"field\":\"color\",\"transform\":{\"id\":\"1535\"}},\"hatch_alpha\":{\"value\":0.5},\"hatch_color\":{\"field\":\"color\",\"transform\":{\"id\":\"1535\"}},\"line_alpha\":{\"value\":0.5},\"line_color\":{\"field\":\"color\",\"transform\":{\"id\":\"1535\"}},\"size\":{\"field\":\"size\"},\"x\":{\"field\":\"Longitude\"},\"y\":{\"field\":\"Latitude\"}},\"id\":\"1539\",\"type\":\"Scatter\"},{\"attributes\":{\"margin\":[5,5,5,5],\"name\":\"HSpacer02253\",\"sizing_mode\":\"stretch_width\"},\"id\":\"1562\",\"type\":\"Spacer\"},{\"attributes\":{},\"id\":\"1493\",\"type\":\"ResetTool\"},{\"attributes\":{\"dimension\":\"lon\"},\"id\":\"1504\",\"type\":\"MercatorTicker\"},{\"attributes\":{\"bottom_units\":\"screen\",\"coordinates\":null,\"fill_alpha\":0.5,\"fill_color\":\"lightgrey\",\"group\":null,\"left_units\":\"screen\",\"level\":\"overlay\",\"line_alpha\":1.0,\"line_color\":\"black\",\"line_dash\":[4,4],\"line_width\":2,\"right_units\":\"screen\",\"syncable\":false,\"top_units\":\"screen\"},\"id\":\"1494\",\"type\":\"BoxAnnotation\"},{\"attributes\":{\"coordinates\":null,\"data_source\":{\"id\":\"1536\"},\"glyph\":{\"id\":\"1539\"},\"group\":null,\"hover_glyph\":{\"id\":\"1542\"},\"muted_glyph\":{\"id\":\"1543\"},\"nonselection_glyph\":{\"id\":\"1540\"},\"selection_glyph\":{\"id\":\"1541\"},\"view\":{\"id\":\"1545\"}},\"id\":\"1544\",\"type\":\"GlyphRenderer\"},{\"attributes\":{},\"id\":\"1517\",\"type\":\"AllLabels\"},{\"attributes\":{\"data\":{\"City\":[\"Bluff\",\"Pangnirtung\",\"Rikitea\",\"Gari\",\"Coquimbo\",\"Kavaratti\",\"Zhangye\",\"Korla\",\"Vaini\",\"Hobyo\",\"Nanortalik\",\"Hermanus\",\"Yumen\",\"Geraldton\",\"San Policarpo\",\"Busselton\",\"Barrow\",\"Ushuaia\",\"Pasvalys\",\"Honiara\",\"Mar del Plata\",\"Mataram\",\"Punta Arenas\",\"Lebu\",\"Yellowknife\",\"Macei\\u00f3\",\"Isangel\",\"Safi\",\"Beringovskiy\",\"Hofn\",\"Albany\",\"Viedma\",\"Diamantino\",\"Iqaluit\",\"Gu\\u00eda de Isora\",\"Butaritari\",\"Mataura\",\"Santiago de las Vegas\",\"Santa Rosa\",\"Guerrero Negro\",\"Chui\",\"Hilo\",\"Flinders\",\"Skibbereen\",\"Tuatapere\",\"Acapulco de Ju\\u00e1rez\",\"S\\u00f8rland\",\"Paamiut\",\"Severo-Kuril'sk\",\"College\",\"Pervomayskoye\",\"Tuktoyaktuk\",\"Provideniya\",\"Gouyave\",\"Tongliao\",\"Puerto Ayora\",\"Faya\",\"Mars\\u00e1 Ma\\u0163r\\u016b\\u1e29\",\"Kruisfontein\",\"New Norfolk\",\"Faanui\",\"Saint-Philippe\",\"Lorengau\",\"Mosquera\",\"Hobart\",\"Upernavik\",\"Qaanaaq\",\"Bambous Virieux\",\"Dikson\",\"Nador\",\"Lincoln\",\"Olafsvik\",\"Chowchilla\",\"Araouane\",\"Grand-Lahou\",\"Jilib\",\"Vestmannaeyjar\",\"Cabedelo\",\"Tasiilaq\",\"Kiunga\",\"Moose Factory\",\"East London\",\"Kapaa\",\"Castro\",\"Neryungri\",\"Bulawayo\",\"Los Llanos de Aridane\",\"Cherskiy\",\"Baykit\",\"Ahipara\",\"Anchorage\",\"Baruun-Urt\",\"Ancud\",\"Torbay\",\"Atuona\",\"Pierre\",\"Seoul\",\"Fort-Shevchenko\",\"Lavrentiya\",\"Garden City\",\"Hasaki\",\"Pevek\",\"Bredasdorp\",\"Souillac\",\"Makkah al Mukarramah\",\"Sitka\",\"Diego de Almagro\",\"Masall\\u0101tah\",\"Sarana\",\"Bethel\",\"Miyako\",\"Tombouctou\",\"Avera\",\"Klaksv\\u00edk\",\"Cidreira\",\"Hay River\",\"Arraial do Cabo\",\"Walvis Bay\",\"Kiknur\",\"Cambridge\",\"Namatanai\",\"Port Moresby\",\"Beaufort\",\"East Foothills\",\"Kudahuvadhoo\",\"Paisley\",\"Boulder City\",\"As\\u0103u\",\"Pacific Grove\",\"Saint-Fran\\u00e7ois\",\"San Cristobal\",\"Luanda\",\"Espa\\u00f1ola\",\"Alice Springs\",\"Esim\",\"Port Alfred\",\"Sars\",\"Port Elizabeth\",\"Camacha\",\"Ca Mau\",\"Hamilton\",\"Nikolskoye\",\"Avarua\",\"Solnechnyy\",\"Kumul\",\"Kinsale\",\"Tataouine\",\"Leningradskiy\",\"Rothesay\",\"Tucum\\u00e3\",\"Inverell\",\"Sola\",\"Saskylakh\",\"Kemb\\u00e9\",\"Laguna\",\"Hithadhoo\",\"Cape Town\",\"Petropavlovsk-Kamchatskiy\",\"Boyolangu\",\"Ou\\u00e9goa\",\"Tiznit Province\",\"La Asuncion\",\"Cockburn Town\",\"Inhambane\",\"Blagoyevo\",\"Beisfjord\",\"Yar-Sale\",\"Ponta do Sol\",\"Hong Kong\",\"Lagos\",\"Kodinsk\",\"Portland\",\"Ribeira Grande\",\"Djenn\\u00e9\",\"Qui Nhon\",\"Yulara\",\"Khatanga\",\"Umm Kaddadah\",\"Tarn Taran\",\"Rodolfo S\\u00e1nchez Taboada\",\"George Town\",\"Sistranda\",\"Los Chiles\",\"Awjilah\",\"Fairbanks\",\"Olinda\",\"Christchurch\",\"C\\u00f3rdoba\",\"Thompson\",\"Calbuco\",\"Bengkulu\",\"Pirmasens\",\"Coyhaique\",\"Kisangani\",\"Grindavik\",\"Rogovskaya\",\"Caravelas\",\"Cayenne\",\"Kokopo\",\"Longyearbyen\",\"Airai\",\"Wanning\",\"Kh\\u0101sh\",\"Kirya\",\"Potami\\u00e1\",\"Samarai\",\"Jamestown\",\"Saint George\",\"Leshan\",\"Lagoa\",\"Parry Sound\",\"Tomari\",\"Henties Bay\",\"Deputatsky\",\"Chokurdakh\",\"Bathsheba\",\"Bandarbeyla\",\"Mawlaik\",\"Lokosovo\",\"Ilulissat\",\"Rawson\",\"Tautira\",\"\\u00dcr\\u00fcmqi\",\"Miloslavskoye\",\"Hamadan\",\"Altay\",\"Arrondissement de Tarbes\",\"Kampot\",\"Bukama\",\"Kaitangata\",\"Dhidhdhoo\",\"Asw\\u0101n\",\"Sagua la Grande\",\"Yangi Marg`ilon\",\"Maniitsoq\",\"Usinsk\",\"Santa Luc\\u00eda\",\"Te Anau\",\"Tomatl\\u00e1n\",\"Lamar\",\"Chara\",\"Mamlyutka\",\"Rocha\",\"Baley\",\"Qaqortoq\",\"San Vicente\",\"Helong\",\"Salalah\",\"Port Lincoln\",\"Novobureyskiy\",\"Novobelokatay\",\"Ketchikan\",\"Votkinsk\",\"Jiexiu\",\"Peniche\",\"Coahuayana Viejo\",\"Murray\",\"Krasnosel'kup\",\"Bay Roberts\",\"Vila Velha\",\"Egvekinot\",\"Alofi\",\"Saint-Augustin\",\"Neuqu\\u00e9n\",\"West Wendover\",\"Port Augusta\",\"Gamba\",\"Nishifukuma\",\"Axum\",\"Tonantins\",\"Kuliyapitiya\",\"Tsimmerbude\",\"Bereda\",\"Touros\",\"Kununurra\",\"Aranos\",\"Pallasovka\",\"Kazygurt\",\"Aksay\",\"Barra Patuca\",\"Waingapu\",\"Amargosa\",\"Merrill\",\"Anadyr\",\"Manggar\",\"Lodwar\",\"Port Blair\",\"Pundaguitan\",\"Kendal\",\"Poum\",\"Mor\\u00f3n\",\"Ishigaki\",\"Half Moon Bay\",\"Ma\\u015fy\\u0101f\",\"Mbandaka\",\"Correntina\",\"Shebunino\",\"Sergeevka\",\"Vila Franca do Campo\",\"Tiksi\",\"Channar\\u0101yapatna\",\"L\\u00fcderitz\",\"Hambantota\",\"Vostok\",\"Westport\",\"Korhogo\",\"Oyot\\u00fan\",\"Broome\",\"Naze\",\"Shimoda\",\"Saldanha\",\"Almaznyy\",\"Margate\",\"Mednogorsk\",\"Padang\",\"Ca\\u00f1asgordas\",\"Alta Floresta\",\"Fortuna\",\"Muroto-misakicho\",\"Carnarvon\",\"Acajutla\",\"Palmer\",\"Paredon\",\"Kenai\",\"Hlotse\",\"Riyadh\",\"Tura\",\"Herre\",\"Cua\",\"H\\u012bt\",\"S\\u00e3o Filipe\",\"Pontes e Lacerda\",\"Enshi\",\"Valparai\",\"Taltal\",\"Jalu\",\"Zhigansk\",\"Obo\",\"Mahon\",\"Berdigestyakh\",\"Glendive\",\"Ry\\u014dtsu-minato\",\"Longonjo\",\"Katherine\",\"Huntsville\",\"Ostrovnoy\",\"Tegul'det\",\"Talakan\",\"Nyaunglebin\",\"Byron Bay\",\"Beruwala\",\"Itarema\",\"Ugoofaaru\",\"Adamovka\",\"Departamento de Maldonado\",\"Drayton Valley\",\"Mareeba\",\"Fukuech\\u014d\",\"Jinka\",\"Bac Lieu\",\"Port Hedland\",\"Jasper\",\"Saint Paul Harbor\",\"San Andr\\u00e9s\",\"Mugur-Aksy\",\"Wilmington\",\"Dolores Hidalgo Cuna de la Independencia Nacional\",\"Kargil\",\"Muhos\",\"Eureka\",\"Jijiga\",\"Najr\\u0101n\",\"Emba\",\"La Primavera\",\"High Rock\",\"Makushino\",\"Mattru\",\"Salm\\u0101s\",\"\\u0160ven\\u010dion\\u0117liai\",\"Nhulunbuy\",\"Juneau\",\"Bubaque\",\"Meulaboh\",\"Yaring\",\"Playas\",\"Hawkesbury\",\"Saint Anthony\",\"Grong\",\"Nagato\",\"Colares\",\"Chatrapur\",\"Ol'ga\",\"Talnakh\",\"S\\u00e3o Jo\\u00e3o da Barra\",\"Muriti\",\"Suluktu\",\"Vuktyl\",\"Silifke\",\"Olh\\u00e3o\",\"Brigantine\",\"Kiama\",\"Mah\\u00e9bourg\",\"Lo\\u00edza\",\"Saint-Leu\",\"Eyl\",\"Norman Wells\",\"Pimentel\",\"Iralaya\",\"Pingxiang\",\"Fatehpur\",\"\\u2018\\u0100huimanu\",\"Doha\",\"Okhotsk\",\"Kochi\",\"Mercedes\",\"Dalbandin\",\"Newala\",\"Leshukonskoye\",\"La Ronge\",\"Genhe\",\"Formosa do Rio Preto\",\"Verkhnevilyuysk\",\"Strezhevoy\",\"Spirit River\",\"Bariloche\",\"Senno\",\"Mount Gambier\",\"Papetoai\",\"Aksarka\",\"Mnogovershinnyy\",\"Buala\",\"Mongomo\",\"Bowen\",\"Arlit\",\"Nuuk\",\"Hav\\u00f8ysund\",\"Constantine\",\"Hope\",\"Graja\\u00fa\",\"Mount Isa\",\"Namalenga\",\"Pokosnoye\",\"Brownsville\",\"Mayo\",\"Ternate\",\"Priladozhskiy\",\"Vila\",\"Lompoc\",\"Jadu\",\"Abu Samrah\",\"Alihe\",\"Amga\",\"Pisco\",\"Sisimiut\",\"Qiongshan\",\"Woodland\",\"San Patricio\",\"Grand Baie\",\"Takapau\",\"Ullapool\",\"Kropotkin\",\"Lakes Entrance\",\"Luena\",\"Kyabram\",\"Goderich\",\"Marakkanam\",\"Prince Rupert\",\"Sabang\",\"Dunedin\",\"Nome\",\"Hengyang\",\"Disna\",\"Kapoeta\",\"Kloulklubed\",\"Kharan\",\"Ver\\u0101val\",\"Xai-Xai\",\"Kyaikkami\",\"Bah\\u0101durganj\",\"Cururupu\",\"Calabozo\",\"Great Yarmouth\",\"Komsomolets\",\"Derzhav\\u012bnsk\",\"Ninghai\",\"Esperance\",\"Opotiki\",\"Orange Cove\",\"Wanaka\",\"Nurota\",\"Kieta\",\"Srednekolymsk\",\"Cabo San Lucas\",\"Prainha\",\"Safonovo\",\"Bell Ville\",\"Marystown\",\"Huai Yot\",\"Buraidah\",\"Nioro\",\"Hervey Bay\",\"Ilh\\u00e9us\",\"Belmonte\",\"Merauke\",\"Chapleau\",\"Codrington\",\"Monywa\",\"Minnedosa\",\"Kupang\",\"Mokhsogollokh\",\"Panguipulli\",\"Bud\",\"Zhanakorgan\",\"Shenjiamen\",\"R\\u00edo Gallegos\",\"Xiazhen\",\"Kavieng\",\"Vanavara\",\"Mehamn\",\"Maningrida\",\"Zhifang\",\"Muswellbrook\",\"Villa Rica\",\"Concei\\u00e7\\u00e3o do Araguaia\",\"Nouadhibou\",\"Sibu\",\"Arona\",\"Champerico\",\"Ixtapa\",\"Jerome\",\"Xique-Xique\",\"Cumpas\",\"Pianc\\u00f3\",\"Kuril'sk\",\"Sambalpur\",\"Muli\",\"Tenkodogo\",\"Lahaina\",\"Khovd\",\"Greeley\",\"Muros\",\"Yatou\",\"Camargo\",\"Esmeralda\",\"Villacarrillo\"],\"Humidity\":[71,82,81,90,88,69,37,23,69,76,88,96,51,94,75,92,78,47,74,76,72,85,36,78,67,83,84,88,87,90,25,66,83,52,86,78,70,51,87,60,72,91,90,92,62,62,61,67,86,84,71,78,57,74,25,88,75,24,65,75,71,82,78,67,81,97,66,89,94,42,24,85,63,6,87,78,91,75,91,100,67,81,76,90,97,86,73,95,99,62,58,76,66,88,76,35,69,81,74,62,63,100,91,89,50,75,45,69,72,26,69,6,39,81,66,79,78,88,86,40,72,100,94,53,72,78,10,93,64,93,65,83,15,69,87,95,79,88,72,81,54,95,69,95,25,100,57,87,85,91,85,75,96,55,51,71,85,69,89,68,50,62,54,72,91,62,86,80,91,87,90,86,63,7,89,46,96,12,71,69,86,75,51,13,83,65,82,81,48,69,91,89,58,98,87,53,76,78,80,93,93,93,21,82,82,77,34,22,84,57,35,72,90,89,94,65,76,71,96,85,28,71,46,82,55,48,91,78,96,76,64,17,50,76,72,95,77,69,46,46,94,78,67,91,82,37,58,83,64,51,65,65,94,84,83,45,70,96,89,71,94,74,98,49,57,36,88,66,26,87,91,67,100,80,94,59,46,85,60,66,82,86,61,78,85,52,76,77,77,71,80,77,64,72,79,40,56,73,62,79,61,86,100,71,22,34,82,35,73,70,93,73,74,62,87,90,94,83,65,78,57,24,61,55,55,20,81,93,55,48,59,92,98,88,77,13,94,56,58,99,56,80,94,83,30,84,89,70,78,88,87,89,73,68,70,53,96,71,88,77,67,31,48,74,59,50,15,71,97,83,81,50,31,56,74,79,86,62,82,94,89,77,86,88,78,63,53,93,74,58,80,76,96,73,68,67,96,88,69,31,89,89,65,88,77,57,70,70,98,46,76,48,74,84,55,33,98,98,33,87,41,91,96,79,36,95,85,75,85,90,76,95,85,5,58,80,61,56,88,63,98,95,62,34,82,95,54,71,59,85,91,99,69,75,88,45,52,77,69,86,64,70,98,72,41,80,65,74,61,85,85,86,45,70,41,78,88,65,69,97,28,69,86,62,90,77,61,52,67,70,74,90,53,85,95,62,100,96,20,41,78,79,78,84,30,86,57,96,100,98,66,52,18,90,44,49,78,92,86,81,96,86,26,89,64,94,78,62,69,82,50,9,64,72,38,70,11,77,46,14,80,61,4,50,39],\"Latitude\":{\"__ndarray__\":\"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\",\"dtype\":\"float64\",\"order\":\"little\",\"shape\":[545]},\"Longitude\":{\"__ndarray__\":\"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\",\"dtype\":\"float64\",\"order\":\"little\",\"shape\":[545]},\"color\":[\"Bluff\",\"Pangnirtung\",\"Rikitea\",\"Gari\",\"Coquimbo\",\"Kavaratti\",\"Zhangye\",\"Korla\",\"Vaini\",\"Hobyo\",\"Nanortalik\",\"Hermanus\",\"Yumen\",\"Geraldton\",\"San Policarpo\",\"Busselton\",\"Barrow\",\"Ushuaia\",\"Pasvalys\",\"Honiara\",\"Mar del Plata\",\"Mataram\",\"Punta Arenas\",\"Lebu\",\"Yellowknife\",\"Macei\\u00f3\",\"Isangel\",\"Safi\",\"Beringovskiy\",\"Hofn\",\"Albany\",\"Viedma\",\"Diamantino\",\"Iqaluit\",\"Gu\\u00eda de Isora\",\"Butaritari\",\"Mataura\",\"Santiago de las Vegas\",\"Santa Rosa\",\"Guerrero Negro\",\"Chui\",\"Hilo\",\"Flinders\",\"Skibbereen\",\"Tuatapere\",\"Acapulco de Ju\\u00e1rez\",\"S\\u00f8rland\",\"Paamiut\",\"Severo-Kuril'sk\",\"College\",\"Pervomayskoye\",\"Tuktoyaktuk\",\"Provideniya\",\"Gouyave\",\"Tongliao\",\"Puerto Ayora\",\"Faya\",\"Mars\\u00e1 Ma\\u0163r\\u016b\\u1e29\",\"Kruisfontein\",\"New Norfolk\",\"Faanui\",\"Saint-Philippe\",\"Lorengau\",\"Mosquera\",\"Hobart\",\"Upernavik\",\"Qaanaaq\",\"Bambous Virieux\",\"Dikson\",\"Nador\",\"Lincoln\",\"Olafsvik\",\"Chowchilla\",\"Araouane\",\"Grand-Lahou\",\"Jilib\",\"Vestmannaeyjar\",\"Cabedelo\",\"Tasiilaq\",\"Kiunga\",\"Moose Factory\",\"East London\",\"Kapaa\",\"Castro\",\"Neryungri\",\"Bulawayo\",\"Los Llanos de Aridane\",\"Cherskiy\",\"Baykit\",\"Ahipara\",\"Anchorage\",\"Baruun-Urt\",\"Ancud\",\"Torbay\",\"Atuona\",\"Pierre\",\"Seoul\",\"Fort-Shevchenko\",\"Lavrentiya\",\"Garden City\",\"Hasaki\",\"Pevek\",\"Bredasdorp\",\"Souillac\",\"Makkah al Mukarramah\",\"Sitka\",\"Diego de Almagro\",\"Masall\\u0101tah\",\"Sarana\",\"Bethel\",\"Miyako\",\"Tombouctou\",\"Avera\",\"Klaksv\\u00edk\",\"Cidreira\",\"Hay River\",\"Arraial do Cabo\",\"Walvis Bay\",\"Kiknur\",\"Cambridge\",\"Namatanai\",\"Port Moresby\",\"Beaufort\",\"East Foothills\",\"Kudahuvadhoo\",\"Paisley\",\"Boulder City\",\"As\\u0103u\",\"Pacific Grove\",\"Saint-Fran\\u00e7ois\",\"San Cristobal\",\"Luanda\",\"Espa\\u00f1ola\",\"Alice Springs\",\"Esim\",\"Port Alfred\",\"Sars\",\"Port Elizabeth\",\"Camacha\",\"Ca Mau\",\"Hamilton\",\"Nikolskoye\",\"Avarua\",\"Solnechnyy\",\"Kumul\",\"Kinsale\",\"Tataouine\",\"Leningradskiy\",\"Rothesay\",\"Tucum\\u00e3\",\"Inverell\",\"Sola\",\"Saskylakh\",\"Kemb\\u00e9\",\"Laguna\",\"Hithadhoo\",\"Cape Town\",\"Petropavlovsk-Kamchatskiy\",\"Boyolangu\",\"Ou\\u00e9goa\",\"Tiznit Province\",\"La Asuncion\",\"Cockburn Town\",\"Inhambane\",\"Blagoyevo\",\"Beisfjord\",\"Yar-Sale\",\"Ponta do Sol\",\"Hong Kong\",\"Lagos\",\"Kodinsk\",\"Portland\",\"Ribeira Grande\",\"Djenn\\u00e9\",\"Qui Nhon\",\"Yulara\",\"Khatanga\",\"Umm Kaddadah\",\"Tarn Taran\",\"Rodolfo S\\u00e1nchez Taboada\",\"George Town\",\"Sistranda\",\"Los Chiles\",\"Awjilah\",\"Fairbanks\",\"Olinda\",\"Christchurch\",\"C\\u00f3rdoba\",\"Thompson\",\"Calbuco\",\"Bengkulu\",\"Pirmasens\",\"Coyhaique\",\"Kisangani\",\"Grindavik\",\"Rogovskaya\",\"Caravelas\",\"Cayenne\",\"Kokopo\",\"Longyearbyen\",\"Airai\",\"Wanning\",\"Kh\\u0101sh\",\"Kirya\",\"Potami\\u00e1\",\"Samarai\",\"Jamestown\",\"Saint George\",\"Leshan\",\"Lagoa\",\"Parry Sound\",\"Tomari\",\"Henties Bay\",\"Deputatsky\",\"Chokurdakh\",\"Bathsheba\",\"Bandarbeyla\",\"Mawlaik\",\"Lokosovo\",\"Ilulissat\",\"Rawson\",\"Tautira\",\"\\u00dcr\\u00fcmqi\",\"Miloslavskoye\",\"Hamadan\",\"Altay\",\"Arrondissement de Tarbes\",\"Kampot\",\"Bukama\",\"Kaitangata\",\"Dhidhdhoo\",\"Asw\\u0101n\",\"Sagua la Grande\",\"Yangi Marg`ilon\",\"Maniitsoq\",\"Usinsk\",\"Santa Luc\\u00eda\",\"Te Anau\",\"Tomatl\\u00e1n\",\"Lamar\",\"Chara\",\"Mamlyutka\",\"Rocha\",\"Baley\",\"Qaqortoq\",\"San Vicente\",\"Helong\",\"Salalah\",\"Port Lincoln\",\"Novobureyskiy\",\"Novobelokatay\",\"Ketchikan\",\"Votkinsk\",\"Jiexiu\",\"Peniche\",\"Coahuayana Viejo\",\"Murray\",\"Krasnosel'kup\",\"Bay Roberts\",\"Vila Velha\",\"Egvekinot\",\"Alofi\",\"Saint-Augustin\",\"Neuqu\\u00e9n\",\"West Wendover\",\"Port Augusta\",\"Gamba\",\"Nishifukuma\",\"Axum\",\"Tonantins\",\"Kuliyapitiya\",\"Tsimmerbude\",\"Bereda\",\"Touros\",\"Kununurra\",\"Aranos\",\"Pallasovka\",\"Kazygurt\",\"Aksay\",\"Barra Patuca\",\"Waingapu\",\"Amargosa\",\"Merrill\",\"Anadyr\",\"Manggar\",\"Lodwar\",\"Port Blair\",\"Pundaguitan\",\"Kendal\",\"Poum\",\"Mor\\u00f3n\",\"Ishigaki\",\"Half Moon Bay\",\"Ma\\u015fy\\u0101f\",\"Mbandaka\",\"Correntina\",\"Shebunino\",\"Sergeevka\",\"Vila Franca do Campo\",\"Tiksi\",\"Channar\\u0101yapatna\",\"L\\u00fcderitz\",\"Hambantota\",\"Vostok\",\"Westport\",\"Korhogo\",\"Oyot\\u00fan\",\"Broome\",\"Naze\",\"Shimoda\",\"Saldanha\",\"Almaznyy\",\"Margate\",\"Mednogorsk\",\"Padang\",\"Ca\\u00f1asgordas\",\"Alta Floresta\",\"Fortuna\",\"Muroto-misakicho\",\"Carnarvon\",\"Acajutla\",\"Palmer\",\"Paredon\",\"Kenai\",\"Hlotse\",\"Riyadh\",\"Tura\",\"Herre\",\"Cua\",\"H\\u012bt\",\"S\\u00e3o Filipe\",\"Pontes e Lacerda\",\"Enshi\",\"Valparai\",\"Taltal\",\"Jalu\",\"Zhigansk\",\"Obo\",\"Mahon\",\"Berdigestyakh\",\"Glendive\",\"Ry\\u014dtsu-minato\",\"Longonjo\",\"Katherine\",\"Huntsville\",\"Ostrovnoy\",\"Tegul'det\",\"Talakan\",\"Nyaunglebin\",\"Byron Bay\",\"Beruwala\",\"Itarema\",\"Ugoofaaru\",\"Adamovka\",\"Departamento de Maldonado\",\"Drayton Valley\",\"Mareeba\",\"Fukuech\\u014d\",\"Jinka\",\"Bac Lieu\",\"Port Hedland\",\"Jasper\",\"Saint Paul Harbor\",\"San Andr\\u00e9s\",\"Mugur-Aksy\",\"Wilmington\",\"Dolores Hidalgo Cuna de la Independencia Nacional\",\"Kargil\",\"Muhos\",\"Eureka\",\"Jijiga\",\"Najr\\u0101n\",\"Emba\",\"La Primavera\",\"High Rock\",\"Makushino\",\"Mattru\",\"Salm\\u0101s\",\"\\u0160ven\\u010dion\\u0117liai\",\"Nhulunbuy\",\"Juneau\",\"Bubaque\",\"Meulaboh\",\"Yaring\",\"Playas\",\"Hawkesbury\",\"Saint Anthony\",\"Grong\",\"Nagato\",\"Colares\",\"Chatrapur\",\"Ol'ga\",\"Talnakh\",\"S\\u00e3o Jo\\u00e3o da Barra\",\"Muriti\",\"Suluktu\",\"Vuktyl\",\"Silifke\",\"Olh\\u00e3o\",\"Brigantine\",\"Kiama\",\"Mah\\u00e9bourg\",\"Lo\\u00edza\",\"Saint-Leu\",\"Eyl\",\"Norman Wells\",\"Pimentel\",\"Iralaya\",\"Pingxiang\",\"Fatehpur\",\"\\u2018\\u0100huimanu\",\"Doha\",\"Okhotsk\",\"Kochi\",\"Mercedes\",\"Dalbandin\",\"Newala\",\"Leshukonskoye\",\"La Ronge\",\"Genhe\",\"Formosa do Rio Preto\",\"Verkhnevilyuysk\",\"Strezhevoy\",\"Spirit River\",\"Bariloche\",\"Senno\",\"Mount Gambier\",\"Papetoai\",\"Aksarka\",\"Mnogovershinnyy\",\"Buala\",\"Mongomo\",\"Bowen\",\"Arlit\",\"Nuuk\",\"Hav\\u00f8ysund\",\"Constantine\",\"Hope\",\"Graja\\u00fa\",\"Mount Isa\",\"Namalenga\",\"Pokosnoye\",\"Brownsville\",\"Mayo\",\"Ternate\",\"Priladozhskiy\",\"Vila\",\"Lompoc\",\"Jadu\",\"Abu Samrah\",\"Alihe\",\"Amga\",\"Pisco\",\"Sisimiut\",\"Qiongshan\",\"Woodland\",\"San Patricio\",\"Grand Baie\",\"Takapau\",\"Ullapool\",\"Kropotkin\",\"Lakes Entrance\",\"Luena\",\"Kyabram\",\"Goderich\",\"Marakkanam\",\"Prince Rupert\",\"Sabang\",\"Dunedin\",\"Nome\",\"Hengyang\",\"Disna\",\"Kapoeta\",\"Kloulklubed\",\"Kharan\",\"Ver\\u0101val\",\"Xai-Xai\",\"Kyaikkami\",\"Bah\\u0101durganj\",\"Cururupu\",\"Calabozo\",\"Great Yarmouth\",\"Komsomolets\",\"Derzhav\\u012bnsk\",\"Ninghai\",\"Esperance\",\"Opotiki\",\"Orange Cove\",\"Wanaka\",\"Nurota\",\"Kieta\",\"Srednekolymsk\",\"Cabo San Lucas\",\"Prainha\",\"Safonovo\",\"Bell Ville\",\"Marystown\",\"Huai Yot\",\"Buraidah\",\"Nioro\",\"Hervey Bay\",\"Ilh\\u00e9us\",\"Belmonte\",\"Merauke\",\"Chapleau\",\"Codrington\",\"Monywa\",\"Minnedosa\",\"Kupang\",\"Mokhsogollokh\",\"Panguipulli\",\"Bud\",\"Zhanakorgan\",\"Shenjiamen\",\"R\\u00edo Gallegos\",\"Xiazhen\",\"Kavieng\",\"Vanavara\",\"Mehamn\",\"Maningrida\",\"Zhifang\",\"Muswellbrook\",\"Villa Rica\",\"Concei\\u00e7\\u00e3o do Araguaia\",\"Nouadhibou\",\"Sibu\",\"Arona\",\"Champerico\",\"Ixtapa\",\"Jerome\",\"Xique-Xique\",\"Cumpas\",\"Pianc\\u00f3\",\"Kuril'sk\",\"Sambalpur\",\"Muli\",\"Tenkodogo\",\"Lahaina\",\"Khovd\",\"Greeley\",\"Muros\",\"Yatou\",\"Camargo\",\"Esmeralda\",\"Villacarrillo\"],\"size\":{\"__ndarray__\":\"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\",\"dtype\":\"float64\",\"order\":\"little\",\"shape\":[545]}},\"selected\":{\"id\":\"1537\"},\"selection_policy\":{\"id\":\"1549\"}},\"id\":\"1536\",\"type\":\"ColumnDataSource\"},{\"attributes\":{\"tools\":[{\"id\":\"1469\"},{\"id\":\"1489\"},{\"id\":\"1490\"},{\"id\":\"1491\"},{\"id\":\"1492\"},{\"id\":\"1493\"}]},\"id\":\"1495\",\"type\":\"Toolbar\"},{\"attributes\":{\"end\":19870062.059680417,\"min_interval\":5,\"reset_end\":19870062.059680417,\"reset_start\":-12706419.020484949,\"start\":-12706419.020484949,\"tags\":[[[\"Latitude\",\"Latitude\",null]]]},\"id\":\"1466\",\"type\":\"Range1d\"},{\"attributes\":{},\"id\":\"1510\",\"type\":\"AllLabels\"},{\"attributes\":{\"factors\":[\"Bluff\",\"Pangnirtung\",\"Rikitea\",\"Gari\",\"Coquimbo\",\"Kavaratti\",\"Zhangye\",\"Korla\",\"Vaini\",\"Hobyo\",\"Nanortalik\",\"Hermanus\",\"Yumen\",\"Geraldton\",\"San Policarpo\",\"Busselton\",\"Barrow\",\"Ushuaia\",\"Pasvalys\",\"Honiara\",\"Mar del Plata\",\"Mataram\",\"Punta Arenas\",\"Lebu\",\"Yellowknife\",\"Macei\\u00f3\",\"Isangel\",\"Safi\",\"Beringovskiy\",\"Hofn\",\"Albany\",\"Viedma\",\"Diamantino\",\"Iqaluit\",\"Gu\\u00eda de Isora\",\"Butaritari\",\"Mataura\",\"Santiago de las Vegas\",\"Santa Rosa\",\"Guerrero Negro\",\"Chui\",\"Hilo\",\"Flinders\",\"Skibbereen\",\"Tuatapere\",\"Acapulco de Ju\\u00e1rez\",\"S\\u00f8rland\",\"Paamiut\",\"Severo-Kuril'sk\",\"College\",\"Pervomayskoye\",\"Tuktoyaktuk\",\"Provideniya\",\"Gouyave\",\"Tongliao\",\"Puerto Ayora\",\"Faya\",\"Mars\\u00e1 Ma\\u0163r\\u016b\\u1e29\",\"Kruisfontein\",\"New Norfolk\",\"Faanui\",\"Saint-Philippe\",\"Lorengau\",\"Mosquera\",\"Hobart\",\"Upernavik\",\"Qaanaaq\",\"Bambous Virieux\",\"Dikson\",\"Nador\",\"Lincoln\",\"Olafsvik\",\"Chowchilla\",\"Araouane\",\"Grand-Lahou\",\"Jilib\",\"Vestmannaeyjar\",\"Cabedelo\",\"Tasiilaq\",\"Kiunga\",\"Moose Factory\",\"East London\",\"Kapaa\",\"Castro\",\"Neryungri\",\"Bulawayo\",\"Los Llanos de Aridane\",\"Cherskiy\",\"Baykit\",\"Ahipara\",\"Anchorage\",\"Baruun-Urt\",\"Ancud\",\"Torbay\",\"Atuona\",\"Pierre\",\"Seoul\",\"Fort-Shevchenko\",\"Lavrentiya\",\"Garden City\",\"Hasaki\",\"Pevek\",\"Bredasdorp\",\"Souillac\",\"Makkah al Mukarramah\",\"Sitka\",\"Diego de Almagro\",\"Masall\\u0101tah\",\"Sarana\",\"Bethel\",\"Miyako\",\"Tombouctou\",\"Avera\",\"Klaksv\\u00edk\",\"Cidreira\",\"Hay River\",\"Arraial do Cabo\",\"Walvis Bay\",\"Kiknur\",\"Cambridge\",\"Namatanai\",\"Port Moresby\",\"Beaufort\",\"East Foothills\",\"Kudahuvadhoo\",\"Paisley\",\"Boulder City\",\"As\\u0103u\",\"Pacific Grove\",\"Saint-Fran\\u00e7ois\",\"San Cristobal\",\"Luanda\",\"Espa\\u00f1ola\",\"Alice Springs\",\"Esim\",\"Port Alfred\",\"Sars\",\"Port Elizabeth\",\"Camacha\",\"Ca Mau\",\"Hamilton\",\"Nikolskoye\",\"Avarua\",\"Solnechnyy\",\"Kumul\",\"Kinsale\",\"Tataouine\",\"Leningradskiy\",\"Rothesay\",\"Tucum\\u00e3\",\"Inverell\",\"Sola\",\"Saskylakh\",\"Kemb\\u00e9\",\"Laguna\",\"Hithadhoo\",\"Cape Town\",\"Petropavlovsk-Kamchatskiy\",\"Boyolangu\",\"Ou\\u00e9goa\",\"Tiznit Province\",\"La Asuncion\",\"Cockburn Town\",\"Inhambane\",\"Blagoyevo\",\"Beisfjord\",\"Yar-Sale\",\"Ponta do Sol\",\"Hong Kong\",\"Lagos\",\"Kodinsk\",\"Portland\",\"Ribeira Grande\",\"Djenn\\u00e9\",\"Qui Nhon\",\"Yulara\",\"Khatanga\",\"Umm Kaddadah\",\"Tarn Taran\",\"Rodolfo S\\u00e1nchez Taboada\",\"George Town\",\"Sistranda\",\"Los Chiles\",\"Awjilah\",\"Fairbanks\",\"Olinda\",\"Christchurch\",\"C\\u00f3rdoba\",\"Thompson\",\"Calbuco\",\"Bengkulu\",\"Pirmasens\",\"Coyhaique\",\"Kisangani\",\"Grindavik\",\"Rogovskaya\",\"Caravelas\",\"Cayenne\",\"Kokopo\",\"Longyearbyen\",\"Airai\",\"Wanning\",\"Kh\\u0101sh\",\"Kirya\",\"Potami\\u00e1\",\"Samarai\",\"Jamestown\",\"Saint George\",\"Leshan\",\"Lagoa\",\"Parry Sound\",\"Tomari\",\"Henties Bay\",\"Deputatsky\",\"Chokurdakh\",\"Bathsheba\",\"Bandarbeyla\",\"Mawlaik\",\"Lokosovo\",\"Ilulissat\",\"Rawson\",\"Tautira\",\"\\u00dcr\\u00fcmqi\",\"Miloslavskoye\",\"Hamadan\",\"Altay\",\"Arrondissement de Tarbes\",\"Kampot\",\"Bukama\",\"Kaitangata\",\"Dhidhdhoo\",\"Asw\\u0101n\",\"Sagua la Grande\",\"Yangi Marg`ilon\",\"Maniitsoq\",\"Usinsk\",\"Santa Luc\\u00eda\",\"Te Anau\",\"Tomatl\\u00e1n\",\"Lamar\",\"Chara\",\"Mamlyutka\",\"Rocha\",\"Baley\",\"Qaqortoq\",\"San Vicente\",\"Helong\",\"Salalah\",\"Port Lincoln\",\"Novobureyskiy\",\"Novobelokatay\",\"Ketchikan\",\"Votkinsk\",\"Jiexiu\",\"Peniche\",\"Coahuayana Viejo\",\"Murray\",\"Krasnosel'kup\",\"Bay Roberts\",\"Vila Velha\",\"Egvekinot\",\"Alofi\",\"Saint-Augustin\",\"Neuqu\\u00e9n\",\"West Wendover\",\"Port Augusta\",\"Gamba\",\"Nishifukuma\",\"Axum\",\"Tonantins\",\"Kuliyapitiya\",\"Tsimmerbude\",\"Bereda\",\"Touros\",\"Kununurra\",\"Aranos\",\"Pallasovka\",\"Kazygurt\",\"Aksay\",\"Barra Patuca\",\"Waingapu\",\"Amargosa\",\"Merrill\",\"Anadyr\",\"Manggar\",\"Lodwar\",\"Port Blair\",\"Pundaguitan\",\"Kendal\",\"Poum\",\"Mor\\u00f3n\",\"Ishigaki\",\"Half Moon Bay\",\"Ma\\u015fy\\u0101f\",\"Mbandaka\",\"Correntina\",\"Shebunino\",\"Sergeevka\",\"Vila Franca do Campo\",\"Tiksi\",\"Channar\\u0101yapatna\",\"L\\u00fcderitz\",\"Hambantota\",\"Vostok\",\"Westport\",\"Korhogo\",\"Oyot\\u00fan\",\"Broome\",\"Naze\",\"Shimoda\",\"Saldanha\",\"Almaznyy\",\"Margate\",\"Mednogorsk\",\"Padang\",\"Ca\\u00f1asgordas\",\"Alta Floresta\",\"Fortuna\",\"Muroto-misakicho\",\"Carnarvon\",\"Acajutla\",\"Palmer\",\"Paredon\",\"Kenai\",\"Hlotse\",\"Riyadh\",\"Tura\",\"Herre\",\"Cua\",\"H\\u012bt\",\"S\\u00e3o Filipe\",\"Pontes e Lacerda\",\"Enshi\",\"Valparai\",\"Taltal\",\"Jalu\",\"Zhigansk\",\"Obo\",\"Mahon\",\"Berdigestyakh\",\"Glendive\",\"Ry\\u014dtsu-minato\",\"Longonjo\",\"Katherine\",\"Huntsville\",\"Ostrovnoy\",\"Tegul'det\",\"Talakan\",\"Nyaunglebin\",\"Byron Bay\",\"Beruwala\",\"Itarema\",\"Ugoofaaru\",\"Adamovka\",\"Departamento de Maldonado\",\"Drayton Valley\",\"Mareeba\",\"Fukuech\\u014d\",\"Jinka\",\"Bac Lieu\",\"Port Hedland\",\"Jasper\",\"Saint Paul Harbor\",\"San Andr\\u00e9s\",\"Mugur-Aksy\",\"Wilmington\",\"Dolores Hidalgo Cuna de la Independencia Nacional\",\"Kargil\",\"Muhos\",\"Eureka\",\"Jijiga\",\"Najr\\u0101n\",\"Emba\",\"La Primavera\",\"High Rock\",\"Makushino\",\"Mattru\",\"Salm\\u0101s\",\"\\u0160ven\\u010dion\\u0117liai\",\"Nhulunbuy\",\"Juneau\",\"Bubaque\",\"Meulaboh\",\"Yaring\",\"Playas\",\"Hawkesbury\",\"Saint Anthony\",\"Grong\",\"Nagato\",\"Colares\",\"Chatrapur\",\"Ol'ga\",\"Talnakh\",\"S\\u00e3o Jo\\u00e3o da Barra\",\"Muriti\",\"Suluktu\",\"Vuktyl\",\"Silifke\",\"Olh\\u00e3o\",\"Brigantine\",\"Kiama\",\"Mah\\u00e9bourg\",\"Lo\\u00edza\",\"Saint-Leu\",\"Eyl\",\"Norman Wells\",\"Pimentel\",\"Iralaya\",\"Pingxiang\",\"Fatehpur\",\"\\u2018\\u0100huimanu\",\"Doha\",\"Okhotsk\",\"Kochi\",\"Mercedes\",\"Dalbandin\",\"Newala\",\"Leshukonskoye\",\"La Ronge\",\"Genhe\",\"Formosa do Rio Preto\",\"Verkhnevilyuysk\",\"Strezhevoy\",\"Spirit River\",\"Bariloche\",\"Senno\",\"Mount Gambier\",\"Papetoai\",\"Aksarka\",\"Mnogovershinnyy\",\"Buala\",\"Mongomo\",\"Bowen\",\"Arlit\",\"Nuuk\",\"Hav\\u00f8ysund\",\"Constantine\",\"Hope\",\"Graja\\u00fa\",\"Mount Isa\",\"Namalenga\",\"Pokosnoye\",\"Brownsville\",\"Mayo\",\"Ternate\",\"Priladozhskiy\",\"Vila\",\"Lompoc\",\"Jadu\",\"Abu Samrah\",\"Alihe\",\"Amga\",\"Pisco\",\"Sisimiut\",\"Qiongshan\",\"Woodland\",\"San Patricio\",\"Grand Baie\",\"Takapau\",\"Ullapool\",\"Kropotkin\",\"Lakes Entrance\",\"Luena\",\"Kyabram\",\"Goderich\",\"Marakkanam\",\"Prince Rupert\",\"Sabang\",\"Dunedin\",\"Nome\",\"Hengyang\",\"Disna\",\"Kapoeta\",\"Kloulklubed\",\"Kharan\",\"Ver\\u0101val\",\"Xai-Xai\",\"Kyaikkami\",\"Bah\\u0101durganj\",\"Cururupu\",\"Calabozo\",\"Great Yarmouth\",\"Komsomolets\",\"Derzhav\\u012bnsk\",\"Ninghai\",\"Esperance\",\"Opotiki\",\"Orange Cove\",\"Wanaka\",\"Nurota\",\"Kieta\",\"Srednekolymsk\",\"Cabo San Lucas\",\"Prainha\",\"Safonovo\",\"Bell Ville\",\"Marystown\",\"Huai Yot\",\"Buraidah\",\"Nioro\",\"Hervey Bay\",\"Ilh\\u00e9us\",\"Belmonte\",\"Merauke\",\"Chapleau\",\"Codrington\",\"Monywa\",\"Minnedosa\",\"Kupang\",\"Mokhsogollokh\",\"Panguipulli\",\"Bud\",\"Zhanakorgan\",\"Shenjiamen\",\"R\\u00edo Gallegos\",\"Xiazhen\",\"Kavieng\",\"Vanavara\",\"Mehamn\",\"Maningrida\",\"Zhifang\",\"Muswellbrook\",\"Villa Rica\",\"Concei\\u00e7\\u00e3o do Araguaia\",\"Nouadhibou\",\"Sibu\",\"Arona\",\"Champerico\",\"Ixtapa\",\"Jerome\",\"Xique-Xique\",\"Cumpas\",\"Pianc\\u00f3\",\"Kuril'sk\",\"Sambalpur\",\"Muli\",\"Tenkodogo\",\"Lahaina\",\"Khovd\",\"Greeley\",\"Muros\",\"Yatou\",\"Camargo\",\"Esmeralda\",\"Villacarrillo\"],\"palette\":[\"#1f77b3\",\"#ff7e0e\",\"#2ba02b\",\"#d62628\",\"#9367bc\",\"#8c564b\",\"#e277c1\",\"#7e7e7e\",\"#bcbc21\",\"#16bdcf\",\"#3a0182\",\"#004201\",\"#0fffa8\",\"#5d003f\",\"#bcbcff\",\"#d8afa1\",\"#b80080\",\"#004d52\",\"#6b6400\",\"#7c0100\",\"#6026ff\",\"#ffff9a\",\"#564964\",\"#8cb893\",\"#93fbff\",\"#018267\",\"#90ff00\",\"#8200a0\",\"#ac8944\",\"#5b3400\",\"#ffbff2\",\"#ff6e75\",\"#798cff\",\"#dd00ff\",\"#505646\",\"#004489\",\"#ffbf60\",\"#ff018c\",\"#bdc8cf\",\"#af97b5\",\"#b65600\",\"#017000\",\"#cd87ff\",\"#1cd646\",\"#bfebc3\",\"#7997b5\",\"#a56089\",\"#6e8956\",\"#bc7c75\",\"#8a2844\",\"#00acff\",\"#8ed4ff\",\"#4b6d77\",\"#00d4b1\",\"#9300f2\",\"#8a9500\",\"#5d5b9e\",\"#fddfba\",\"#00939e\",\"#ffdb00\",\"#00aa79\",\"#520067\",\"#000091\",\"#0a5d3d\",\"#a5e275\",\"#623b41\",\"#c6c689\",\"#ff9eb5\",\"#cd4f6b\",\"#ff07d6\",\"#8a3a05\",\"#7e3d70\",\"#ff4901\",\"#602ba5\",\"#1c00ff\",\"#e6dfff\",\"#aa3baf\",\"#d89c00\",\"#a3a39e\",\"#3f69ff\",\"#46490c\",\"#7b6985\",\"#6b978c\",\"#ff9a75\",\"#835bff\",\"#7c6b46\",\"#80b654\",\"#bc0049\",\"#fd93ff\",\"#5d0018\",\"#89d1d1\",\"#9c8cd3\",\"#da6d42\",\"#8a5700\",\"#3b5069\",\"#4b6b3b\",\"#edcfd8\",\"#cfedff\",\"#aa1500\",\"#dfff4f\",\"#ff2a56\",\"#d1499e\",\"#707cb8\",\"#598000\",\"#00e4fd\",\"#774b95\",\"#67d48c\",\"#3d3a72\",\"#ac413f\",\"#d6a166\",\"#c169cd\",\"#69595d\",\"#87aced\",\"#a0a569\",\"#d1aae6\",\"#870062\",\"#00fddb\",\"#672818\",\"#b342ff\",\"#0e59c4\",\"#168742\",\"#90d300\",\"#cd7900\",\"#f959ff\",\"#5b7466\",\"#8eaeb3\",\"#9c7c8c\",\"#4600c6\",\"#6b4d2d\",\"#a56d46\",\"#9e8972\",\"#a8afca\",\"#cd8ca7\",\"#00fd64\",\"#917900\",\"#ff62a1\",\"#f4ffd8\",\"#018cf0\",\"#13aca0\",\"#5b2d59\",\"#89859e\",\"#cfccba\",\"#d4afc4\",\"#dbdd6d\",\"#cffff4\",\"#006485\",\"#006962\",\"#a84167\",\"#2d97c4\",\"#a874ff\",\"#26ba5d\",\"#57b600\",\"#caffa7\",\"#a379aa\",\"#ffbc93\",\"#89e2c1\",\"#0fc8ff\",\"#d400c4\",\"#626d89\",\"#69858e\",\"#4b4d52\",\"#aa6067\",\"#79b5d4\",\"#2b5916\",\"#9a0024\",\"#bdd1f2\",\"#896e67\",\"#69a56b\",\"#855467\",\"#aecdba\",\"#87997e\",\"#cadb00\",\"#9a0390\",\"#ebbc1a\",\"#eb9cd1\",\"#70006e\",\"#b1a131\",\"#ca6b93\",\"#4146a3\",\"#e48c89\",\"#d44400\",\"#c68aca\",\"#b69597\",\"#d41f75\",\"#724bcc\",\"#674d00\",\"#672138\",\"#38564f\",\"#6ebaaa\",\"#853a31\",\"#a5d397\",\"#b8af8e\",\"#d8e4df\",\"#aa00df\",\"#cac1db\",\"#ffdf8c\",\"#e2524d\",\"#66696e\",\"#ff001c\",\"#522d72\",\"#4d906b\",\"#a86d11\",\"#ff9e26\",\"#5ea3af\",\"#c88556\",\"#915997\",\"#a3a1ff\",\"#fdbaba\",\"#242a87\",\"#dbe6a8\",\"#97f2a7\",\"#6793d6\",\"#ba5b3f\",\"#3a5d91\",\"#364f2f\",\"#267c95\",\"#89959a\",\"#cfb356\",\"#004664\",\"#5e5d2f\",\"#8e8e41\",\"#ac3f13\",\"#69953b\",\"#a13d85\",\"#bfb6ba\",\"#acc667\",\"#6469cf\",\"#91af00\",\"#2be2da\",\"#016e36\",\"#ff7952\",\"#42807e\",\"#4fe800\",\"#995428\",\"#5d0a00\",\"#a30057\",\"#0c8700\",\"#5982a7\",\"#ffebfb\",\"#4b6901\",\"#8775d4\",\"#e6c6ff\",\"#a5ffda\",\"#d86e77\",\"#df014b\",\"#69675b\",\"#776ba1\",\"#7e8067\",\"#594685\",\"#0000ca\",\"#7c002a\",\"#97ff72\",\"#b5e2e1\",\"#db52c8\",\"#777734\",\"#57bd8e\",\"#1f77b3\",\"#ff7e0e\",\"#2ba02b\",\"#d62628\",\"#9367bc\",\"#8c564b\",\"#e277c1\",\"#7e7e7e\",\"#bcbc21\",\"#16bdcf\",\"#3a0182\",\"#004201\",\"#0fffa8\",\"#5d003f\",\"#bcbcff\",\"#d8afa1\",\"#b80080\",\"#004d52\",\"#6b6400\",\"#7c0100\",\"#6026ff\",\"#ffff9a\",\"#564964\",\"#8cb893\",\"#93fbff\",\"#018267\",\"#90ff00\",\"#8200a0\",\"#ac8944\",\"#5b3400\",\"#ffbff2\",\"#ff6e75\",\"#798cff\",\"#dd00ff\",\"#505646\",\"#004489\",\"#ffbf60\",\"#ff018c\",\"#bdc8cf\",\"#af97b5\",\"#b65600\",\"#017000\",\"#cd87ff\",\"#1cd646\",\"#bfebc3\",\"#7997b5\",\"#a56089\",\"#6e8956\",\"#bc7c75\",\"#8a2844\",\"#00acff\",\"#8ed4ff\",\"#4b6d77\",\"#00d4b1\",\"#9300f2\",\"#8a9500\",\"#5d5b9e\",\"#fddfba\",\"#00939e\",\"#ffdb00\",\"#00aa79\",\"#520067\",\"#000091\",\"#0a5d3d\",\"#a5e275\",\"#623b41\",\"#c6c689\",\"#ff9eb5\",\"#cd4f6b\",\"#ff07d6\",\"#8a3a05\",\"#7e3d70\",\"#ff4901\",\"#602ba5\",\"#1c00ff\",\"#e6dfff\",\"#aa3baf\",\"#d89c00\",\"#a3a39e\",\"#3f69ff\",\"#46490c\",\"#7b6985\",\"#6b978c\",\"#ff9a75\",\"#835bff\",\"#7c6b46\",\"#80b654\",\"#bc0049\",\"#fd93ff\",\"#5d0018\",\"#89d1d1\",\"#9c8cd3\",\"#da6d42\",\"#8a5700\",\"#3b5069\",\"#4b6b3b\",\"#edcfd8\",\"#cfedff\",\"#aa1500\",\"#dfff4f\",\"#ff2a56\",\"#d1499e\",\"#707cb8\",\"#598000\",\"#00e4fd\",\"#774b95\",\"#67d48c\",\"#3d3a72\",\"#ac413f\",\"#d6a166\",\"#c169cd\",\"#69595d\",\"#87aced\",\"#a0a569\",\"#d1aae6\",\"#870062\",\"#00fddb\",\"#672818\",\"#b342ff\",\"#0e59c4\",\"#168742\",\"#90d300\",\"#cd7900\",\"#f959ff\",\"#5b7466\",\"#8eaeb3\",\"#9c7c8c\",\"#4600c6\",\"#6b4d2d\",\"#a56d46\",\"#9e8972\",\"#a8afca\",\"#cd8ca7\",\"#00fd64\",\"#917900\",\"#ff62a1\",\"#f4ffd8\",\"#018cf0\",\"#13aca0\",\"#5b2d59\",\"#89859e\",\"#cfccba\",\"#d4afc4\",\"#dbdd6d\",\"#cffff4\",\"#006485\",\"#006962\",\"#a84167\",\"#2d97c4\",\"#a874ff\",\"#26ba5d\",\"#57b600\",\"#caffa7\",\"#a379aa\",\"#ffbc93\",\"#89e2c1\",\"#0fc8ff\",\"#d400c4\",\"#626d89\",\"#69858e\",\"#4b4d52\",\"#aa6067\",\"#79b5d4\",\"#2b5916\",\"#9a0024\",\"#bdd1f2\",\"#896e67\",\"#69a56b\",\"#855467\",\"#aecdba\",\"#87997e\",\"#cadb00\",\"#9a0390\",\"#ebbc1a\",\"#eb9cd1\",\"#70006e\",\"#b1a131\",\"#ca6b93\",\"#4146a3\",\"#e48c89\",\"#d44400\",\"#c68aca\",\"#b69597\",\"#d41f75\",\"#724bcc\",\"#674d00\",\"#672138\",\"#38564f\",\"#6ebaaa\",\"#853a31\",\"#a5d397\",\"#b8af8e\",\"#d8e4df\",\"#aa00df\",\"#cac1db\",\"#ffdf8c\",\"#e2524d\",\"#66696e\",\"#ff001c\",\"#522d72\",\"#4d906b\",\"#a86d11\",\"#ff9e26\",\"#5ea3af\",\"#c88556\",\"#915997\",\"#a3a1ff\",\"#fdbaba\",\"#242a87\",\"#dbe6a8\",\"#97f2a7\",\"#6793d6\",\"#ba5b3f\",\"#3a5d91\",\"#364f2f\",\"#267c95\",\"#89959a\",\"#cfb356\",\"#004664\",\"#5e5d2f\",\"#8e8e41\",\"#ac3f13\",\"#69953b\",\"#a13d85\",\"#bfb6ba\",\"#acc667\",\"#6469cf\",\"#91af00\",\"#2be2da\",\"#016e36\",\"#ff7952\",\"#42807e\",\"#4fe800\",\"#995428\",\"#5d0a00\",\"#a30057\",\"#0c8700\",\"#5982a7\",\"#ffebfb\",\"#4b6901\",\"#8775d4\",\"#e6c6ff\",\"#a5ffda\",\"#d86e77\",\"#df014b\",\"#69675b\",\"#776ba1\",\"#7e8067\",\"#594685\",\"#0000ca\",\"#7c002a\",\"#97ff72\",\"#b5e2e1\",\"#db52c8\",\"#777734\",\"#57bd8e\",\"#1f77b3\",\"#ff7e0e\",\"#2ba02b\",\"#d62628\",\"#9367bc\",\"#8c564b\",\"#e277c1\",\"#7e7e7e\",\"#bcbc21\",\"#16bdcf\",\"#3a0182\",\"#004201\",\"#0fffa8\",\"#5d003f\",\"#bcbcff\",\"#d8afa1\",\"#b80080\",\"#004d52\",\"#6b6400\",\"#7c0100\",\"#6026ff\",\"#ffff9a\",\"#564964\",\"#8cb893\",\"#93fbff\",\"#018267\",\"#90ff00\",\"#8200a0\",\"#ac8944\",\"#5b3400\",\"#ffbff2\",\"#ff6e75\",\"#798cff\"]},\"id\":\"1535\",\"type\":\"CategoricalColorMapper\"},{\"attributes\":{\"dimension\":\"lat\"},\"id\":\"1506\",\"type\":\"MercatorTicker\"},{\"attributes\":{\"below\":[{\"id\":\"1481\"}],\"center\":[{\"id\":\"1484\"},{\"id\":\"1488\"}],\"frame_height\":500,\"frame_width\":700,\"height\":null,\"left\":[{\"id\":\"1485\"}],\"margin\":[5,5,5,5],\"match_aspect\":true,\"min_border_bottom\":10,\"min_border_left\":10,\"min_border_right\":10,\"min_border_top\":10,\"renderers\":[{\"id\":\"1533\"},{\"id\":\"1544\"}],\"right\":[{\"id\":\"1552\"}],\"sizing_mode\":\"fixed\",\"title\":{\"id\":\"1473\"},\"toolbar\":{\"id\":\"1495\"},\"width\":null,\"x_range\":{\"id\":\"1465\"},\"x_scale\":{\"id\":\"1477\"},\"y_range\":{\"id\":\"1466\"},\"y_scale\":{\"id\":\"1479\"}},\"id\":\"1472\",\"subtype\":\"Figure\",\"type\":\"Plot\"},{\"attributes\":{\"children\":[{\"id\":\"1460\"},{\"id\":\"1472\"},{\"id\":\"1562\"}],\"margin\":[0,0,0,0],\"name\":\"Row02248\",\"tags\":[\"embedded\"]},\"id\":\"1459\",\"type\":\"Row\"},{\"attributes\":{\"fill_alpha\":{\"value\":0.5},\"fill_color\":{\"field\":\"color\",\"transform\":{\"id\":\"1535\"}},\"hatch_alpha\":{\"value\":0.5},\"hatch_color\":{\"field\":\"color\",\"transform\":{\"id\":\"1535\"}},\"line_alpha\":{\"value\":0.5},\"line_color\":{\"field\":\"color\",\"transform\":{\"id\":\"1535\"}},\"size\":{\"field\":\"size\"},\"x\":{\"field\":\"Longitude\"},\"y\":{\"field\":\"Latitude\"}},\"id\":\"1541\",\"type\":\"Scatter\"},{\"attributes\":{},\"id\":\"1477\",\"type\":\"LinearScale\"},{\"attributes\":{\"margin\":[5,5,5,5],\"name\":\"HSpacer02252\",\"sizing_mode\":\"stretch_width\"},\"id\":\"1460\",\"type\":\"Spacer\"},{\"attributes\":{\"source\":{\"id\":\"1536\"}},\"id\":\"1545\",\"type\":\"CDSView\"},{\"attributes\":{\"callback\":null,\"formatters\":{\"$x\":{\"id\":\"1554\"},\"$y\":{\"id\":\"1555\"}},\"renderers\":[{\"id\":\"1544\"}],\"tags\":[\"hv_created\"],\"tooltips\":[[\"Longitude\",\"$x{custom}\"],[\"Latitude\",\"$y{custom}\"],[\"City\",\"@{City}\"],[\"Humidity\",\"@{Humidity}\"]]},\"id\":\"1469\",\"type\":\"HoverTool\"},{\"attributes\":{\"dimension\":\"lat\"},\"id\":\"1507\",\"type\":\"MercatorTickFormatter\"},{\"attributes\":{\"end\":22811885.717925254,\"min_interval\":5,\"reset_end\":22811885.717925254,\"reset_start\":-22795187.79430626,\"start\":-22795187.79430626,\"tags\":[[[\"Longitude\",\"Longitude\",null]]]},\"id\":\"1465\",\"type\":\"Range1d\"},{\"attributes\":{},\"id\":\"1537\",\"type\":\"Selection\"},{\"attributes\":{},\"id\":\"1479\",\"type\":\"LinearScale\"},{\"attributes\":{\"attribution\":\"&copy; <a href=\\\"https://www.openstreetmap.org/copyright\\\">OpenStreetMap</a> contributors\",\"url\":\"https://c.tile.openstreetmap.org/{Z}/{X}/{Y}.png\"},\"id\":\"1530\",\"type\":\"WMTSTileSource\"}],\"root_ids\":[\"1459\"]},\"title\":\"Bokeh Application\",\"version\":\"2.4.3\"}};\n",
       "    var render_items = [{\"docid\":\"a6ee1269-e1ff-42f7-b04a-f281a5ca922e\",\"root_ids\":[\"1459\"],\"roots\":{\"1459\":\"506db8fe-f21e-4ad0-b76d-9f2e2a830b28\"}}];\n",
       "    root.Bokeh.embed.embed_items_notebook(docs_json, render_items);\n",
       "  }\n",
       "  if (root.Bokeh !== undefined && root.Bokeh.Panel !== undefined) {\n",
       "    embed_document(root);\n",
       "  } else {\n",
       "    var attempts = 0;\n",
       "    var timer = setInterval(function(root) {\n",
       "      if (root.Bokeh !== undefined && root.Bokeh.Panel !== undefined) {\n",
       "        clearInterval(timer);\n",
       "        embed_document(root);\n",
       "      } else if (document.readyState == \"complete\") {\n",
       "        attempts++;\n",
       "        if (attempts > 200) {\n",
       "          clearInterval(timer);\n",
       "          console.log(\"Bokeh: ERROR: Unable to run BokehJS code because BokehJS library is missing\");\n",
       "        }\n",
       "      }\n",
       "    }, 25, root)\n",
       "  }\n",
       "})(window);</script>"
      ],
      "text/plain": [
       ":Overlay\n",
       "   .Tiles.I  :Tiles   [x,y]\n",
       "   .Points.I :Points   [Longitude,Latitude]   (City,Humidity)"
      ]
     },
     "execution_count": 24,
     "metadata": {
      "application/vnd.holoviews_exec.v0+json": {
       "id": "1459"
      }
     },
     "output_type": "execute_result"
    }
   ],
   "source": [
    "\n",
    "%%capture --no-display\n",
    "\n",
    "# Configure the map plot\n",
    "map_plot = vaca_df.hvplot.points(\n",
    "    \"Longitude\", \n",
    "    \"Latitude\", \n",
    "    geo = True, \n",
    "    size = \"Humidity\",\n",
    "    scale = 1,\n",
    "    color = \"City\",\n",
    "    alpha = 0.5,\n",
    "    tiles = \"OSM\",\n",
    "    frame_width = 700,\n",
    "    frame_height = 500\n",
    ")\n",
    "\n",
    "# Display the map\n",
    "map_plot\n"
   ]
  },
  {
   "cell_type": "code",
   "execution_count": null,
   "id": "5791cbe3",
   "metadata": {},
   "outputs": [],
   "source": []
  },
  {
   "cell_type": "code",
   "execution_count": null,
   "id": "d15d6dfb",
   "metadata": {},
   "outputs": [],
   "source": []
  }
 ],
 "metadata": {
  "kernelspec": {
   "display_name": "Python 3 (ipykernel)",
   "language": "python",
   "name": "python3"
  },
  "language_info": {
   "codemirror_mode": {
    "name": "ipython",
    "version": 3
   },
   "file_extension": ".py",
   "mimetype": "text/x-python",
   "name": "python",
   "nbconvert_exporter": "python",
   "pygments_lexer": "ipython3",
   "version": "3.9.13"
  }
 },
 "nbformat": 4,
 "nbformat_minor": 5
}
